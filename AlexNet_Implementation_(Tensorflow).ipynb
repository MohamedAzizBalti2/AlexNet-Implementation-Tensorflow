{
  "nbformat": 4,
  "nbformat_minor": 0,
  "metadata": {
    "colab": {
      "provenance": []
    },
    "kernelspec": {
      "name": "python3",
      "display_name": "Python 3"
    },
    "language_info": {
      "name": "python"
    }
  },
  "cells": [
    {
      "cell_type": "code",
      "execution_count": 7,
      "metadata": {
        "id": "NBR2_drmkpT7"
      },
      "outputs": [],
      "source": [
        "import tensorflow as tf\n",
        "from tensorflow.keras.layers import Layer , Dense, Conv2D, MaxPooling2D , Activation"
      ]
    },
    {
      "cell_type": "code",
      "source": [
        "# Creating the Local Response Normalization function from the paper\n",
        "class ResponseNormalization(Layer):\n",
        "    def __init__(self, k=2, n=5, epsilon=1e-4, beta=0.75, **kwargs):\n",
        "        super(ResponseNormalization, self).__init__(**kwargs)\n",
        "        self.k = k\n",
        "        self.n = n\n",
        "        self.epsilon = epsilon\n",
        "        self.beta = beta\n",
        "\n",
        "    def call(self, inputs):\n",
        "        # Compute squared activations\n",
        "        squared_activations = tf.square(inputs)\n",
        "\n",
        "        # Compute sum of squared activations for adjacent kernel maps\n",
        "        sum_squared_activations = tf.nn.avg_pool(\n",
        "            squared_activations,\n",
        "            ksize=[1, self.n, self.n, 1],\n",
        "            strides=[1, 1, 1, 1],\n",
        "            padding='SAME'\n",
        "        )\n",
        "\n",
        "        # Apply normalization formula\n",
        "        normalized_output = inputs / tf.pow(self.k + self.epsilon * sum_squared_activations, self.beta)\n",
        "\n",
        "        return normalized_output"
      ],
      "metadata": {
        "id": "3c-d9qqkq7iG"
      },
      "execution_count": 8,
      "outputs": []
    },
    {
      "cell_type": "code",
      "source": [
        "# Declaring the ReLu function\n",
        "relu = tf.keras.activations.relu\n",
        "# Declaring the normalizer\n",
        "normalizer = ResponseNormalization()"
      ],
      "metadata": {
        "id": "tL81YcrBqfts"
      },
      "execution_count": 9,
      "outputs": []
    },
    {
      "cell_type": "code",
      "source": [
        "def create_alexnet_model(input_shape=(224, 224, 3)):\n",
        "    inputs = tf.keras.Input(shape=input_shape, name=\"input\")\n",
        "    x = Conv2D(96, (11, 11), strides=(4, 4), activation='relu', name='conv1')(inputs)\n",
        "    x = relu(x)\n",
        "    x = normalizer(x)\n",
        "    x = MaxPooling2D((3, 3), strides=(2, 2))(x)\n",
        "    x = Conv2D(256, (5, 5), strides=(1, 1), activation='relu', name='conv2')(x)\n",
        "    x = relu(x)\n",
        "    x = normalizer(x)\n",
        "    x = MaxPooling2D((3, 3), strides=(2, 2))(x)\n",
        "    x = Conv2D(384, (3, 3), strides=(1, 1), activation='relu', name='conv3')(x)\n",
        "    x = relu(x)\n",
        "    x = Conv2D(384, (3, 3), strides=(1, 1), activation='relu', name='conv4')(x)\n",
        "    x = Conv2D(256, (3, 3), strides=(1, 1), activation='relu', name='conv5')(x)\n",
        "    x = relu(x)\n",
        "    x = normalizer(x)\n",
        "    x = MaxPooling2D((3, 3), strides=(2, 2))(x)\n",
        "    x = tf.keras.layers.Flatten()(x)\n",
        "    x = Dense(4096, activation='relu')(x)\n",
        "    x = Dense(4096, activation='relu')(x)\n",
        "    outputs = Dense(1000, activation='softmax')(x)\n",
        "    # Create and return the model\n",
        "    model = tf.keras.Model(inputs=inputs, outputs=outputs, name=\"alexnet\")\n",
        "    return model"
      ],
      "metadata": {
        "id": "vFLAbROXk2s_"
      },
      "execution_count": 10,
      "outputs": []
    },
    {
      "cell_type": "code",
      "source": [
        "model = create_alexnet_model()\n",
        "model.compile(optimizer='adam', loss='categorical_crossentropy', metrics=['accuracy'])"
      ],
      "metadata": {
        "id": "Pb5pNpCUlGHN"
      },
      "execution_count": 13,
      "outputs": []
    },
    {
      "cell_type": "code",
      "source": [
        "model.summary()"
      ],
      "metadata": {
        "colab": {
          "base_uri": "https://localhost:8080/"
        },
        "id": "mB8HASDArjv3",
        "outputId": "564c2ac4-4a0f-48f2-a5ba-871e29752470"
      },
      "execution_count": 14,
      "outputs": [
        {
          "output_type": "stream",
          "name": "stdout",
          "text": [
            "Model: \"alexnet\"\n",
            "__________________________________________________________________________________________________\n",
            " Layer (type)                Output Shape                 Param #   Connected to                  \n",
            "==================================================================================================\n",
            " input (InputLayer)          [(None, 224, 224, 3)]        0         []                            \n",
            "                                                                                                  \n",
            " conv1 (Conv2D)              (None, 54, 54, 96)           34944     ['input[0][0]']               \n",
            "                                                                                                  \n",
            " tf.nn.relu_4 (TFOpLambda)   (None, 54, 54, 96)           0         ['conv1[0][0]']               \n",
            "                                                                                                  \n",
            " response_normalization (Re  multiple                     0         ['tf.nn.relu_4[0][0]',        \n",
            " sponseNormalization)                                                'tf.nn.relu_5[0][0]',        \n",
            "                                                                     'tf.nn.relu_7[0][0]']        \n",
            "                                                                                                  \n",
            " max_pooling2d_3 (MaxPoolin  (None, 26, 26, 96)           0         ['response_normalization[3][0]\n",
            " g2D)                                                               ']                            \n",
            "                                                                                                  \n",
            " conv2 (Conv2D)              (None, 22, 22, 256)          614656    ['max_pooling2d_3[0][0]']     \n",
            "                                                                                                  \n",
            " tf.nn.relu_5 (TFOpLambda)   (None, 22, 22, 256)          0         ['conv2[0][0]']               \n",
            "                                                                                                  \n",
            " max_pooling2d_4 (MaxPoolin  (None, 10, 10, 256)          0         ['response_normalization[4][0]\n",
            " g2D)                                                               ']                            \n",
            "                                                                                                  \n",
            " conv3 (Conv2D)              (None, 8, 8, 384)            885120    ['max_pooling2d_4[0][0]']     \n",
            "                                                                                                  \n",
            " tf.nn.relu_6 (TFOpLambda)   (None, 8, 8, 384)            0         ['conv3[0][0]']               \n",
            "                                                                                                  \n",
            " conv4 (Conv2D)              (None, 6, 6, 384)            1327488   ['tf.nn.relu_6[0][0]']        \n",
            "                                                                                                  \n",
            " conv5 (Conv2D)              (None, 4, 4, 256)            884992    ['conv4[0][0]']               \n",
            "                                                                                                  \n",
            " tf.nn.relu_7 (TFOpLambda)   (None, 4, 4, 256)            0         ['conv5[0][0]']               \n",
            "                                                                                                  \n",
            " max_pooling2d_5 (MaxPoolin  (None, 1, 1, 256)            0         ['response_normalization[5][0]\n",
            " g2D)                                                               ']                            \n",
            "                                                                                                  \n",
            " flatten_1 (Flatten)         (None, 256)                  0         ['max_pooling2d_5[0][0]']     \n",
            "                                                                                                  \n",
            " dense_3 (Dense)             (None, 4096)                 1052672   ['flatten_1[0][0]']           \n",
            "                                                                                                  \n",
            " dense_4 (Dense)             (None, 4096)                 1678131   ['dense_3[0][0]']             \n",
            "                                                          2                                       \n",
            "                                                                                                  \n",
            " dense_5 (Dense)             (None, 1000)                 4097000   ['dense_4[0][0]']             \n",
            "                                                                                                  \n",
            "==================================================================================================\n",
            "Total params: 25678184 (97.95 MB)\n",
            "Trainable params: 25678184 (97.95 MB)\n",
            "Non-trainable params: 0 (0.00 Byte)\n",
            "__________________________________________________________________________________________________\n"
          ]
        }
      ]
    },
    {
      "cell_type": "code",
      "source": [],
      "metadata": {
        "id": "7gB-zaVWscrj"
      },
      "execution_count": null,
      "outputs": []
    }
  ]
}